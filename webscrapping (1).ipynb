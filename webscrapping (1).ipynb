{
  "nbformat": 4,
  "nbformat_minor": 0,
  "metadata": {
    "colab": {
      "provenance": []
    },
    "kernelspec": {
      "name": "python3",
      "display_name": "Python 3"
    },
    "language_info": {
      "name": "python"
    }
  },
  "cells": [
    {
      "cell_type": "code",
      "execution_count": null,
      "metadata": {
        "id": "0Gim2jqwQre7"
      },
      "outputs": [],
      "source": [
        "pip install numpy"
      ]
    },
    {
      "cell_type": "code",
      "source": [
        "import numpy as np\n",
        "import pandas as pd\n"
      ],
      "metadata": {
        "id": "XJoDMIakQyeA"
      },
      "execution_count": 3,
      "outputs": []
    },
    {
      "cell_type": "code",
      "source": [
        "import requests\n",
        "from bs4 import BeautifulSoup\n",
        "import matplotlib.pyplot as plt"
      ],
      "metadata": {
        "id": "jMod-X2rQ4H2"
      },
      "execution_count": 4,
      "outputs": []
    },
    {
      "cell_type": "code",
      "source": [
        "URL =\"https://www.cars24.com/buy-used-car/?sort=P&storeCityId=3686&pinId=500001&utm_source=google&utm_medium=cpc&utm_campaign=search_buyer_hyderabad_LNF&utm_source=google&utm_medium=cpc&utm_campaign=search_buyer_hyderabad_LNF&utm_keyword=online%20car%20buying%20sites&utm_matchtype=p&utm_device=c&adgroup_id=171668699417&campaign_id=22154774875&gclid=Cj0KCQjwnui_BhDlARIsAEo9GutoZUAdgblqrURBZ2AFmEP8gcN-JbnfD0r5NkKm0apJ4Y1mhzszYQkaAkhIEALw_wcB&gad_source=1\""
      ],
      "metadata": {
        "id": "SDLmXRQeRNqC"
      },
      "execution_count": 5,
      "outputs": []
    },
    {
      "cell_type": "code",
      "source": [
        "page = requests.get(URL)"
      ],
      "metadata": {
        "id": "SeKIRvjFRX7R"
      },
      "execution_count": 6,
      "outputs": []
    },
    {
      "cell_type": "code",
      "source": [
        "page.status_code"
      ],
      "metadata": {
        "colab": {
          "base_uri": "https://localhost:8080/"
        },
        "id": "XFbUuHDMRpHx",
        "outputId": "37699df8-6e90-4d1d-c0c6-0dfff92032e2"
      },
      "execution_count": 7,
      "outputs": [
        {
          "output_type": "execute_result",
          "data": {
            "text/plain": [
              "200"
            ]
          },
          "metadata": {},
          "execution_count": 7
        }
      ]
    },
    {
      "cell_type": "code",
      "source": [
        "htmlcode=page.text\n",
        "soup=BeautifulSoup(htmlcode)\n",
        "htmlcode"
      ],
      "metadata": {
        "id": "STKKUJ7EHrp6",
        "collapsed": true
      },
      "execution_count": null,
      "outputs": []
    },
    {
      "cell_type": "code",
      "source": [
        "content=soup.find('div',attrs={\"class\":\"styles_carListingContainer__uob_6\"})\n",
        "print(content)\n",
        "text=content.text\n",
        "print(text)"
      ],
      "metadata": {
        "id": "JmmIdJydIA-W"
      },
      "execution_count": null,
      "outputs": []
    },
    {
      "cell_type": "code",
      "source": [
        "content=soup.find('div',attrs={\"class\":\"styles_carListingContainer__uob_6\"})\n",
        "text=content.text.strip()\n",
        "r1=text.split(\"\\n\")\n",
        "r2=r1[0].split(\",\")\n",
        "r3=[]\n",
        "for i in range(0,len(r2)-1,2):\n",
        "  r3.append(r2[i]+r2[i+1])\n",
        "for i in range(len(r3)):\n",
        "  print(r3[i])\n",
        "  print()\n",
        "  print()"
      ],
      "metadata": {
        "id": "tpo9Us9hIbS7"
      },
      "execution_count": null,
      "outputs": []
    },
    {
      "cell_type": "code",
      "source": [
        "r4=[]\n",
        "for i in r3:\n",
        "  x=i.split('.')\n",
        "  r4.append(x)\n",
        "for x in r4:\n",
        "  print(x)\n",
        "  print()\n",
        "  print()"
      ],
      "metadata": {
        "id": "tEy975YCJOW5"
      },
      "execution_count": null,
      "outputs": []
    },
    {
      "cell_type": "code",
      "source": [
        "for i in range(4):\n",
        "  del r4[-1]\n",
        "for i in r4:\n",
        "  if len(i)<3:\n",
        "    r4.remove(i)\n",
        "for x in r4:\n",
        "  print(x)\n",
        "  print()\n",
        "  print()"
      ],
      "metadata": {
        "id": "wjQP8q6nJkbu"
      },
      "execution_count": null,
      "outputs": []
    },
    {
      "cell_type": "code",
      "source": [
        "car_models=[]\n",
        "prices=[]\n",
        "locations=[]\n",
        "for i in r4:\n",
        "  car_model=i[0]\n",
        "  price=i[1]\n",
        "  location=i[2]\n",
        "  car_models.append(car_model)\n",
        "  prices.append(price)\n",
        "  locations.append(location)\n",
        "# locations. pop(1)\n",
        "locations. pop(2)\n",
        "locations. pop(17)\n",
        "locations. pop(4)\n",
        "# locations. pop(5)\n",
        "# locations. pop(5)\n",
        "# locations. pop(8)\n",
        "# locations. pop(9)\n",
        "# locations. pop(8)\n",
        "# locations. pop(7)\n",
        "# locations. pop(5)\n",
        "# locations. pop(5)\n",
        "# locations.pop(3)\n",
        "# locations.pop(1)\n",
        "prices.pop(2)\n",
        "prices.pop(17)\n",
        "# prices.pop(5)\n",
        "# prices.pop(6)\n",
        "# prices.pop(7)\n",
        "# prices.pop(8)\n",
        "# prices.pop(5)\n",
        "# prices.pop(6)\n",
        "# prices.pop(6)\n",
        "# prices.pop(7)\n",
        "# prices.pop(5)\n",
        "# prices.pop(5)\n",
        "# prices.pop(1)\n",
        "# prices.pop(5)\n",
        "car_models.pop(2)\n",
        "#car_models.pop(17)\n",
        "# car_models.pop(14)\n",
        "# car_models.pop(13)\n",
        "# car_models.pop(12)\n",
        "# car_models.pop(11)\n",
        "# car_models.pop(10)\n",
        "# car_models.pop(9)\n",
        "# car_models.pop(8)\n",
        "# car_models.pop(7)\n",
        "car_models.pop(6)\n",
        "# car_models.pop(5)\n",
        "# car_models.pop(6)\n",
        "# car_models.pop(5)\n",
        "print(\"Models:\",len(car_models),car_models)\n",
        "print(\"Prices:\",len(prices),prices)\n",
        "print(\"Locations:\",len(locations),locations)"
      ],
      "metadata": {
        "id": "q7naDlcfKBIC"
      },
      "execution_count": null,
      "outputs": []
    },
    {
      "cell_type": "code",
      "source": [
        "df=pd.DataFrame({'Car_models':car_models,'Car Specifications':prices,'Locations':locations})\n",
        "df['Locations']=df['Locations'].apply(lambda x:x.split()[-1])\n",
        "df['Car_models']=df['Car_models'].apply(lambda x:' '.join(x.split()[1:]))\n",
        "df"
      ],
      "metadata": {
        "id": "byC_TP-iLuw-"
      },
      "execution_count": null,
      "outputs": []
    },
    {
      "cell_type": "code",
      "source": [
        "df.to_csv('cars2025.csv',header=True,index=False)"
      ],
      "metadata": {
        "id": "TPodlV5ZSoOX"
      },
      "execution_count": null,
      "outputs": []
    },
    {
      "cell_type": "code",
      "source": [
        "from google.colab import files\n",
        "files.download('cars2025.csv')"
      ],
      "metadata": {
        "id": "yg3ya0dTS3xJ"
      },
      "execution_count": null,
      "outputs": []
    },
    {
      "cell_type": "code",
      "source": [
        "labels=['Car1','Car Spec1','Loc1','Car2','Car Spec2','Loc2','Car3','Car Spec3','Loc3','Car4','Car Spec4','Loc4','Car5','Car Spec5','Loc5']\n",
        "sizes=[200,300,250,400,500,600,200,350,450,350,250,200,300,400,450]\n",
        "plt.pie(sizes,labels=labels,autopct='%1.1f%%',startangle=90,colors=['red','lightblue','pink'])\n",
        "plt.title('cars2025')\n",
        "plt.axis('equal')\n",
        "plt.show()"
      ],
      "metadata": {
        "id": "lXzP59f5TN7T"
      },
      "execution_count": null,
      "outputs": []
    },
    {
      "cell_type": "code",
      "source": [
        "Cars=['c1','c2','c3','c4','c5']\n",
        "Emi=[12356,9521,9325,11730,9736]\n",
        "plt.bar(Cars,Emi,color='red',alpha=0.5)\n",
        "plt.xlabel('Cars')\n",
        "plt.ylabel('Emi')\n",
        "plt.title('Cares 2025')\n",
        "plt.xticks(rotation=0)\n",
        "plt.yticks(rotation=45)\n",
        "plt.show()"
      ],
      "metadata": {
        "id": "lMj_BWvzUkAs"
      },
      "execution_count": null,
      "outputs": []
    },
    {
      "cell_type": "code",
      "source": [
        "plt.plot(df['Car_models'],df['Locations'],marker='D',linestyle='--',color='blue')\n",
        "plt.title('Line plot - CARS vs EMI')\n",
        "plt.xlabel('CARS')\n",
        "plt.ylabel('EMI')\n",
        "plt.grid(True)\n",
        "plt.yticks(rotation=0)\n",
        "plt.xticks(rotation=30)\n",
        "plt.show()"
      ],
      "metadata": {
        "id": "Yw6hn-CzV8qR"
      },
      "execution_count": null,
      "outputs": []
    }
  ]
}